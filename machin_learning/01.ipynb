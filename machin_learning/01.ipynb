{
 "cells": [
  {
   "cell_type": "code",
   "execution_count": null,
   "id": "2d926665",
   "metadata": {},
   "outputs": [],
   "source": [
    "# 데이터가 제일 중요함\n",
    "# 데이터 전처리\n",
    "    # 결측치 제거하거나 대처 (평균 , 중위수 , 주변데이터를 이용 / 다양한 알고리즘)\n",
    "    # 클래스가 불균형할경우 : oversampling , downsampling SMOTE  SMOTEEN\n",
    "# 데이터 특성공학 : 연속형 -> 범주형으로 만들기 , 시간정보는 1시~2시 / 23시~00시\n",
    "    # 범주형을 숫자 / 숫자사이에 연관성이 있으면 이것도 학습\n",
    "    # 연관성이 전혀 없는 범주형 라벨링 - onehot\n",
    "    # 범주형이지만 순서나 크기가 있는 범주형은 라벨링 그대로 유지\n",
    "# 머신러닝\n",
    "# 지도학습\n",
    "    # 회귀\n",
    "        # linearRegression , 다항함수\n",
    "    # 분류\n",
    "    #   # SVM , Kneighbors , decisionTree\n",
    "# 비지도학습\n",
    "    # 클러스터\n",
    "        # Kmeans , dbscan\n",
    "    # 결정트리"
   ]
  }
 ],
 "metadata": {
  "language_info": {
   "name": "python"
  }
 },
 "nbformat": 4,
 "nbformat_minor": 5
}
