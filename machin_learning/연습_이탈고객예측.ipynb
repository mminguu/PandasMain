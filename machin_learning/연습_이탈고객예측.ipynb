{
 "cells": [
  {
   "cell_type": "markdown",
   "id": "5517ea06",
   "metadata": {},
   "source": [
    "#### 이탈 고객 예측"
   ]
  },
  {
   "cell_type": "markdown",
   "id": "9c8332e3",
   "metadata": {},
   "source": [
    "#### 데이터 전처리 (결측치 , 클래스불균형 확인 및 처리)\n",
    "\n",
    "#### 특성공학 - 피처선정 또는 피처 생성\n",
    "\n",
    "#### 베이스 모델 산정\n",
    "    - 분류모델 : LogisticRefression\n",
    "    - 클래스 리포트 , 과적합 여부\n",
    "#### 베이스 모델의 성능을 상회 하는 모델과 하이퍼 파라메터 조합을 찾아서 성능을 출력\n"
   ]
  },
  {
   "cell_type": "code",
   "execution_count": null,
   "id": "ad4da99b",
   "metadata": {},
   "outputs": [
    {
     "name": "stdout",
     "output_type": "stream",
     "text": [
      "\n",
      "📋 범주형 컬럼: ['gender', 'Partner', 'Dependents', 'PhoneService', 'MultipleLines', 'InternetService', 'OnlineSecurity', 'OnlineBackup', 'DeviceProtection', 'TechSupport', 'StreamingTV', 'StreamingMovies', 'Contract', 'PaperlessBilling', 'PaymentMethod', 'TotalCharges']\n",
      "📋 숫자형 컬럼: ['SeniorCitizen', 'tenure', 'MonthlyCharges']\n",
      "\n",
      "📦 Train/Test shapes: (4930, 19) (2113, 19)\n"
     ]
    }
   ],
   "source": [
    "import pandas as pd\n",
    "import numpy as np\n",
    "import warnings\n",
    "warnings.filterwarnings(\"ignore\")\n",
    "\n",
    "from sklearn.model_selection import train_test_split, cross_val_score, StratifiedKFold, GridSearchCV\n",
    "from sklearn.preprocessing import OneHotEncoder, StandardScaler, MinMaxScaler\n",
    "from sklearn.compose import ColumnTransformer\n",
    "from sklearn.pipeline import Pipeline\n",
    "from sklearn.impute import SimpleImputer\n",
    "from sklearn.decomposition import PCA\n",
    "from sklearn.linear_model import LogisticRegression\n",
    "from sklearn.svm import SVC\n",
    "from sklearn.ensemble import RandomForestClassifier\n",
    "from sklearn.metrics import (classification_report, accuracy_score, confusion_matrix, roc_auc_score)\n",
    "from sklearn.base import BaseEstimator, TransformerMixin\n",
    "\n",
    "url = 'https://raw.githubusercontent.com/pia222sk20/python/refs/heads/main/data/tellecom.csv'\n",
    "\n",
    "df = pd.read_csv(url)\n",
    "\n",
    "\n",
    "\n"
   ]
  },
  {
   "cell_type": "code",
   "execution_count": null,
   "id": "62451419",
   "metadata": {},
   "outputs": [],
   "source": []
  }
 ],
 "metadata": {
  "kernelspec": {
   "display_name": "Python 3",
   "language": "python",
   "name": "python3"
  },
  "language_info": {
   "codemirror_mode": {
    "name": "ipython",
    "version": 3
   },
   "file_extension": ".py",
   "mimetype": "text/x-python",
   "name": "python",
   "nbconvert_exporter": "python",
   "pygments_lexer": "ipython3",
   "version": "3.13.7"
  }
 },
 "nbformat": 4,
 "nbformat_minor": 5
}
