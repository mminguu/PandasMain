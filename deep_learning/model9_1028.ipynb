{
 "cells": [
  {
   "cell_type": "code",
   "execution_count": 1,
   "id": "e5496f96",
   "metadata": {},
   "outputs": [],
   "source": [
    "# 회귀\n",
    "# 출력의 개수를 1개로\n",
    "# 손실함수를 MSE나 기타 등등..\n",
    "# 데이터셋과 데이터로드를 커스텀하게 정의해서 사용하면 나머지는 동인한 패턴으로 학습평가를 진행하게 됨"
   ]
  },
  {
   "cell_type": "code",
   "execution_count": 2,
   "id": "8c2794c5",
   "metadata": {},
   "outputs": [],
   "source": [
    "# %pip install torch"
   ]
  },
  {
   "cell_type": "code",
   "execution_count": 5,
   "id": "d2a6fa04",
   "metadata": {},
   "outputs": [
    {
     "name": "stderr",
     "output_type": "stream",
     "text": [
      "<>:10: SyntaxWarning: invalid escape sequence '\\s'\n",
      "<>:10: SyntaxWarning: invalid escape sequence '\\s'\n",
      "C:\\Users\\playdata\\AppData\\Local\\Temp\\ipykernel_4512\\82714452.py:10: SyntaxWarning: invalid escape sequence '\\s'\n",
      "  raw_df = pd.read_csv(data_url, sep=\"\\s+\", skiprows=22, header=None)\n",
      "epoch : 1/20:   0%|          | 0/16 [00:00<?, ?it/s]d:\\pandas_main\\.venv\\Lib\\site-packages\\torch\\nn\\modules\\loss.py:634: UserWarning: Using a target size (torch.Size([32])) that is different to the input size (torch.Size([32, 1])). This will likely lead to incorrect results due to broadcasting. Please ensure they have the same size.\n",
      "  return F.mse_loss(input, target, reduction=self.reduction)\n",
      "epoch : 1/20:   0%|          | 0/16 [00:00<?, ?it/s, loss=141] d:\\pandas_main\\.venv\\Lib\\site-packages\\torch\\nn\\modules\\loss.py:634: UserWarning: Using a target size (torch.Size([26])) that is different to the input size (torch.Size([26, 1])). This will likely lead to incorrect results due to broadcasting. Please ensure they have the same size.\n",
      "  return F.mse_loss(input, target, reduction=self.reduction)\n",
      "epoch : 1/20: 100%|██████████| 16/16 [00:00<00:00, 295.26it/s, loss=81.3]\n",
      "epoch : 2/20: 100%|██████████| 16/16 [00:00<00:00, 482.08it/s, loss=117]\n",
      "epoch : 3/20: 100%|██████████| 16/16 [00:00<00:00, 457.93it/s, loss=114]\n",
      "epoch : 4/20: 100%|██████████| 16/16 [00:00<00:00, 499.53it/s, loss=112]\n",
      "epoch : 5/20: 100%|██████████| 16/16 [00:00<00:00, 479.53it/s, loss=125]\n",
      "epoch : 6/20: 100%|██████████| 16/16 [00:00<00:00, 460.03it/s, loss=140]\n",
      "epoch : 7/20: 100%|██████████| 16/16 [00:00<00:00, 378.72it/s, loss=78.4]\n",
      "epoch : 8/20: 100%|██████████| 16/16 [00:00<00:00, 457.59it/s, loss=51.7]\n",
      "epoch : 9/20: 100%|██████████| 16/16 [00:00<00:00, 459.89it/s, loss=80.7]\n",
      "epoch : 10/20: 100%|██████████| 16/16 [00:00<00:00, 486.60it/s, loss=109]\n",
      "epoch : 11/20: 100%|██████████| 16/16 [00:00<00:00, 458.91it/s, loss=65.3]\n",
      "epoch : 12/20: 100%|██████████| 16/16 [00:00<00:00, 427.63it/s, loss=92.6]\n",
      "epoch : 13/20: 100%|██████████| 16/16 [00:00<00:00, 487.24it/s, loss=42.8]\n",
      "epoch : 14/20: 100%|██████████| 16/16 [00:00<00:00, 456.57it/s, loss=75.8]\n",
      "epoch : 15/20: 100%|██████████| 16/16 [00:00<00:00, 299.13it/s, loss=62.4]\n",
      "epoch : 16/20: 100%|██████████| 16/16 [00:00<00:00, 401.89it/s, loss=96.6]\n",
      "epoch : 17/20: 100%|██████████| 16/16 [00:00<00:00, 274.81it/s, loss=79.7]\n",
      "epoch : 18/20: 100%|██████████| 16/16 [00:00<00:00, 399.27it/s, loss=123]\n",
      "epoch : 19/20: 100%|██████████| 16/16 [00:00<00:00, 327.51it/s, loss=113]\n",
      "epoch : 20/20: 100%|██████████| 16/16 [00:00<00:00, 478.28it/s, loss=81.7]\n"
     ]
    }
   ],
   "source": [
    "# from torch.optim import Adam\n",
    "# from torchvision import datasets, transforms\n",
    "from torch.utils.data import Dataset , DataLoader\n",
    "import pandas as pd\n",
    "import numpy as np\n",
    "import torch\n",
    "import torch.nn as nn\n",
    "\n",
    "data_url = \"http://lib.stat.cmu.edu/datasets/boston\"\n",
    "raw_df = pd.read_csv(data_url, sep=\"\\s+\", skiprows=22, header=None)\n",
    "data = np.hstack([raw_df.values[::2, :], raw_df.values[1::2, :2]])\n",
    "target = raw_df.values[1::2, 2]\n",
    "\n",
    "class BostonDataSet(Dataset):\n",
    "    def __init__(self,X,y):\n",
    "        self.X = torch.tensor(X,dtype = torch.float32)\n",
    "        self.y = torch.tensor(y,dtype = torch.float32)\n",
    "    def __len__(self):\n",
    "        return len(self.X)\n",
    "    def __getitem__(self, index):\n",
    "        return self.X[index] ,  self.y[index]\n",
    "    \n",
    "X_dataset = BostonDataSet(data , target) # 데이터를 X , y 를 한쌍으로 묶어버림 zip같은 느낌\n",
    "X_train_loader = DataLoader(X_dataset , batch_size=32 , shuffle=True)\n",
    "\n",
    "# 회귀 모델 정의\n",
    "class BostonRegression(nn.Module):\n",
    "    def __init__(self ,input_dim ):\n",
    "        super(BostonRegression , self).__init__()\n",
    "        self.model = nn.Sequential(\n",
    "            nn.Linear(input_dim , 64),\n",
    "            nn.ReLU(),\n",
    "            nn.Linear(64, 32),\n",
    "            nn.ReLU(),\n",
    "            nn.Linear(32 ,1)\n",
    "        )\n",
    "    def forward(self , x):\n",
    "        return self.model(x)\n",
    "    \n",
    "\n",
    "from torch.optim import Adam\n",
    "from tqdm import tqdm\n",
    "model = BostonRegression(data.shape[1])\n",
    "criterion = nn.MSELoss()\n",
    "optim = Adam(model.parameters() , lr = 1e-3)\n",
    "\n",
    "device = 'cuda' if torch.cuda.is_available() else 'cpu'\n",
    "model.to(device)\n",
    "\n",
    "lr = 1e-3\n",
    "optim = Adam(model.parameters(), lr=lr)\n",
    "epochs = 20\n",
    "# 학습루프\n",
    "for epoch in range(epochs):\n",
    "    tqdm_obj = tqdm(X_train_loader,desc=f'epoch : {epoch+1}/{epochs}')\n",
    "    for data, label in tqdm_obj:\n",
    "        optim.zero_grad()\n",
    "        preds = model(data.to(device))\n",
    "        loss = criterion(preds, label.to(device))\n",
    "        loss.backward()\n",
    "        optim.step()\n",
    "\n",
    "        tqdm_obj.set_postfix(loss=loss.item())\n",
    "        \n",
    "\n",
    "torch.save(model.state_dict(), 'BostonRegression.pth') "
   ]
  },
  {
   "cell_type": "code",
   "execution_count": null,
   "id": "7bce1d20",
   "metadata": {},
   "outputs": [],
   "source": []
  }
 ],
 "metadata": {
  "kernelspec": {
   "display_name": ".venv",
   "language": "python",
   "name": "python3"
  },
  "language_info": {
   "codemirror_mode": {
    "name": "ipython",
    "version": 3
   },
   "file_extension": ".py",
   "mimetype": "text/x-python",
   "name": "python",
   "nbconvert_exporter": "python",
   "pygments_lexer": "ipython3",
   "version": "3.13.7"
  }
 },
 "nbformat": 4,
 "nbformat_minor": 5
}
